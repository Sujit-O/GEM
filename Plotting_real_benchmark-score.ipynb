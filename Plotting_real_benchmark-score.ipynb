{
 "cells": [
  {
   "cell_type": "code",
   "execution_count": 74,
   "metadata": {},
   "outputs": [],
   "source": [
    "try: import cPickle as pickle\n",
    "except: import pickle\n",
    "from os import environ\n",
    "# if 'DISPLAY' not in environ:\n",
    "#     import matplotlib\n",
    "#     matplotlib.use('Agg')\n",
    "\n",
    "import matplotlib\n",
    "matplotlib.use('Agg')\n",
    "import matplotlib.pyplot as plt\n",
    "import itertools\n",
    "from matplotlib import rc\n",
    "import numpy as np\n",
    "import pandas as pd\n",
    "import seaborn\n",
    "font = {'family': 'serif', 'serif': ['computer modern roman']}\n",
    "rc('text', usetex=False)\n",
    "rc('font', weight='bold')\n",
    "rc('font', size=8)\n",
    "rc('lines', markersize=2.5)\n",
    "rc('lines', linewidth=0.5)\n",
    "rc('xtick', labelsize=6)\n",
    "rc('ytick', labelsize=6)\n",
    "rc('axes', labelsize='small')\n",
    "rc('axes', labelweight='bold')\n",
    "rc('axes', titlesize='small')\n",
    "rc('axes', linewidth=1)\n",
    "plt.rc('font', **font)\n",
    "seaborn.set_style(\"darkgrid\")\n",
    "import pdb"
   ]
  },
  {
   "cell_type": "code",
   "execution_count": 4,
   "metadata": {},
   "outputs": [],
   "source": [
    "path = 'gem/intermediate2/'\n",
    "#path = '/Users/HuangDi0422/Documents/GitHub/HPC_syn/Bench_files/'"
   ]
  },
  {
   "cell_type": "code",
   "execution_count": 5,
   "metadata": {},
   "outputs": [
    {
     "ename": "FileNotFoundError",
     "evalue": "File gem/intermediate2/Social_16_gf_lp_u_rand_data_hyp.h5 does not exist",
     "output_type": "error",
     "traceback": [
      "\u001b[0;31m---------------------------------------------------------------------------\u001b[0m",
      "\u001b[0;31mFileNotFoundError\u001b[0m                         Traceback (most recent call last)",
      "\u001b[0;32m<ipython-input-5-c0c2661fc737>\u001b[0m in \u001b[0;36m<module>\u001b[0;34m\u001b[0m\n\u001b[0;32m----> 1\u001b[0;31m \u001b[0mdf\u001b[0m \u001b[0;34m=\u001b[0m \u001b[0mpd\u001b[0m\u001b[0;34m.\u001b[0m\u001b[0mread_hdf\u001b[0m\u001b[0;34m(\u001b[0m\u001b[0mpath\u001b[0m \u001b[0;34m+\u001b[0m \u001b[0;34m\"Social_16_gf_lp_u_rand_data_hyp.h5\"\u001b[0m\u001b[0;34m,\u001b[0m \u001b[0;34m'df'\u001b[0m\u001b[0;34m)\u001b[0m\u001b[0;34m\u001b[0m\u001b[0;34m\u001b[0m\u001b[0m\n\u001b[0m\u001b[1;32m      2\u001b[0m \u001b[0mdf\u001b[0m \u001b[0;34m=\u001b[0m \u001b[0mdf\u001b[0m\u001b[0;34m[\u001b[0m\u001b[0mdf\u001b[0m\u001b[0;34m[\u001b[0m\u001b[0;34m\"Round Id\"\u001b[0m\u001b[0;34m]\u001b[0m \u001b[0;34m==\u001b[0m \u001b[0;36m0\u001b[0m\u001b[0;34m]\u001b[0m\u001b[0;34m\u001b[0m\u001b[0;34m\u001b[0m\u001b[0m\n",
      "\u001b[0;32m/usr/local/lib/python3.7/site-packages/pandas/io/pytables.py\u001b[0m in \u001b[0;36mread_hdf\u001b[0;34m(path_or_buf, key, mode, **kwargs)\u001b[0m\n\u001b[1;32m    364\u001b[0m         \u001b[0;32mif\u001b[0m \u001b[0;32mnot\u001b[0m \u001b[0mexists\u001b[0m\u001b[0;34m:\u001b[0m\u001b[0;34m\u001b[0m\u001b[0;34m\u001b[0m\u001b[0m\n\u001b[1;32m    365\u001b[0m             raise compat.FileNotFoundError(\n\u001b[0;32m--> 366\u001b[0;31m                 'File {path} does not exist'.format(path=path_or_buf))\n\u001b[0m\u001b[1;32m    367\u001b[0m \u001b[0;34m\u001b[0m\u001b[0m\n\u001b[1;32m    368\u001b[0m         \u001b[0mstore\u001b[0m \u001b[0;34m=\u001b[0m \u001b[0mHDFStore\u001b[0m\u001b[0;34m(\u001b[0m\u001b[0mpath_or_buf\u001b[0m\u001b[0;34m,\u001b[0m \u001b[0mmode\u001b[0m\u001b[0;34m=\u001b[0m\u001b[0mmode\u001b[0m\u001b[0;34m,\u001b[0m \u001b[0;34m**\u001b[0m\u001b[0mkwargs\u001b[0m\u001b[0;34m)\u001b[0m\u001b[0;34m\u001b[0m\u001b[0;34m\u001b[0m\u001b[0m\n",
      "\u001b[0;31mFileNotFoundError\u001b[0m: File gem/intermediate2/Social_16_gf_lp_u_rand_data_hyp.h5 does not exist"
     ]
    }
   ],
   "source": [
    "df = pd.read_hdf(path + \"Social_16_gf_lp_u_rand_data_hyp.h5\", 'df')\n",
    "df = df[df[\"Round Id\"] == 0]"
   ]
  },
  {
   "cell_type": "code",
   "execution_count": 6,
   "metadata": {},
   "outputs": [],
   "source": [
    "graph_info = pd.read_hdf('graphPropertiesPy3.h5', 'df')"
   ]
  },
  {
   "cell_type": "code",
   "execution_count": 17,
   "metadata": {},
   "outputs": [
    {
     "data": {
      "text/plain": [
       "Index(['Unnamed: 0', 'index', 'network_index', 'network_name', 'title',\n",
       "       'description', 'networkDomain', 'subDomain', 'citation', 'sourceUrl',\n",
       "       'hostedBy', 'graphProperties', 'nodeType', 'edgeType', 'nodes_id',\n",
       "       'edges_id', 'number_nodes', 'number_edges', 'ave_degree', 'labels_Q',\n",
       "       'labels_Q_MR', 'labels_Q_MP', 'labels_Q_GMP', 'labels_B_NR_SBM',\n",
       "       'labels_B_NR_DCSBM', 'labels_B_HKK_SBM', 'labels_cICL_HKK_SBM',\n",
       "       'labels_Infomap', 'labels_MDL_SBM', 'labels_MDL_DCSBM', 'labels_S_NB',\n",
       "       'labels_S_cBHm', 'labels_S_cBHa', 'labels_AMOS',\n",
       "       'labels_AMOS_reliablity', 'labels_LRT_WB_DCSBM', 'Q_score',\n",
       "       'Q_MR_score', 'Q_MP_score', 'Q_GMP_score', 'B_NR_SBM_score',\n",
       "       'B_NR_DCSBM_score', 'B_HKK_SBM_score', 'cICL_HKK_SBM_score',\n",
       "       'Infomap_score', 'MDL_SBM_score', 'MDL_DCSBM_score', 'S_NB_score',\n",
       "       'S_cBHm_score', 'S_cBHa_score', 'AMOS_score', 'LRT_WB_DCSBM_score'],\n",
       "      dtype='object')"
      ]
     },
     "execution_count": 17,
     "metadata": {},
     "output_type": "execute_result"
    }
   ],
   "source": [
    "graph_info.columns"
   ]
  },
  {
   "cell_type": "code",
   "execution_count": 16,
   "metadata": {},
   "outputs": [
    {
     "data": {
      "text/plain": [
       "560"
      ]
     },
     "execution_count": 16,
     "metadata": {},
     "output_type": "execute_result"
    }
   ],
   "source": [
    "graph_info.at[0, 'number_edges']"
   ]
  },
  {
   "cell_type": "code",
   "execution_count": 14,
   "metadata": {},
   "outputs": [
    {
     "data": {
      "text/plain": [
       "934"
      ]
     },
     "execution_count": 14,
     "metadata": {},
     "output_type": "execute_result"
    }
   ],
   "source": [
    "len(graph_info.at[0, 'labels_Q'])"
   ]
  },
  {
   "cell_type": "code",
   "execution_count": 39,
   "metadata": {},
   "outputs": [
    {
     "data": {
      "text/plain": [
       "'Transportation'"
      ]
     },
     "execution_count": 39,
     "metadata": {},
     "output_type": "execute_result"
    }
   ],
   "source": [
    "graph_info.at[296, 'networkDomain']"
   ]
  },
  {
   "cell_type": "code",
   "execution_count": 95,
   "metadata": {},
   "outputs": [],
   "source": [
    "def plot_benchmark(domains, graph_attrs, methods, graph_names, s_sch='rw'):\n",
    "#     df_all = pd.DataFrame()\n",
    "#     graph_info = pd.read_hdf('graphPropertiesPy3.h5', 'df')\n",
    "#     for m , g in itertools.product(*[methods, graph_names]):\n",
    "#         d = graph_info.at[g, \"networkDomain\"]\n",
    "#         g = str(g)\n",
    "#         try:\n",
    "#             df = pd.read_hdf(path+\n",
    "#                 \"%s_%s_%s_lp_%s_data_hyp.h5\" % (d, g, m, s_sch),\n",
    "#                 \"df\"\n",
    "#             )\n",
    "#             df = df[df[\"Round Id\"] == 0]\n",
    "# #             print('Graph %s, method %s, MAP %f, p100 %f\\n' % (g, m, df.at[10, 'LP MAP'], df.at[10, 'LP P@100']))\n",
    "#         except:\n",
    "#             print('%s_%s_%s_lp_%s_data_hyp.h5 not found. Ignoring data set' % (d, g, m, s_sch))\n",
    "#             continue\n",
    "#         df[\"Domain\"], df[\"Method\"], df[\"Graph\"] = d, m, g\n",
    "#         df_all = df_all.append(df).reset_index()\n",
    "#         df_all = df_all.drop(['index'], axis=1)\n",
    "#     df_all.to_hdf('real_results.h5', 'df')\n",
    "    df_all = pd.read_hdf('real_results.h5', 'df')\n",
    "    df_all['# of Nodes'] = df_all['N']\n",
    "    df_all['Degree'] = df_all['deg']\n",
    "\n",
    "\n",
    "    if df_all.empty:\n",
    "        return\n",
    "    plot_shape = (3, 3)\n",
    "    fin1, axarray1 = plt.subplots(3, 3, figsize=(7, 4), sharex='col', sharey='row')\n",
    "    data_idx = 0\n",
    "    \n",
    "    for attr in graph_attrs.keys():\n",
    "        for attr_val in graph_attrs[attr]:\n",
    "            plot_idx = np.unravel_index(data_idx, (3, 3))\n",
    "            data_idx += 1\n",
    "            df_grouped = df_all[df_all[attr]==attr_val]\n",
    "            df_grouped = df_grouped[[\"dim\", \"Round Id\", \"LP P@100\", \"Method\", \"Graph\"]]\n",
    "            df_grouped['LP P@100'] = df_grouped['LP P@100'].astype('float')\n",
    "            df_grouped = df_grouped.groupby([\"dim\", \"Round Id\", \"Method\", \"Graph\"]).mean().reset_index()\n",
    "            try:\n",
    "                df_grouped['unit']=df_grouped.apply(lambda x:'%s_%s' % (x['Round Id'],x['Graph']),axis=1)\n",
    "            except:\n",
    "                pdb.set_trace()\n",
    "            df_grouped = df_grouped.drop(['Round Id', \"Graph\"], axis=1)\n",
    "            if data_idx == 9:\n",
    "                legend = True\n",
    "            else:\n",
    "                legend = False\n",
    "            ax = seaborn.tsplot(time=\"dim\", value=\"LP P@100\",\n",
    "                                        unit=\"unit\", condition=\"Method\", legend=legend,\n",
    "                                        data=df_grouped, ax=axarray1[plot_idx[0], plot_idx[1]])\n",
    "            marker = [\"o\", \"s\", \"D\", \"^\", \"v\", \"8\", \"*\", \"p\", \"1\", \"h\"]\n",
    "            ax.set_title(str(attr_val), pad=-0.13*4)\n",
    "            ax.set_ylim((0, 0.18))\n",
    "            for line_i in range(len(ax.lines)):\n",
    "                ax.lines[line_i].set_marker(marker[line_i])\n",
    "            if legend:\n",
    "                try:\n",
    "                    ax.legend_.remove()\n",
    "                except:\n",
    "                    pdb.set_trace()\n",
    "                    pass\n",
    "            \n",
    "            if not plot_idx[1]:\n",
    "                ax.set_ylabel(attr)\n",
    "            if plot_idx[1]:\n",
    "                ax.set_ylabel('')\n",
    "            if plot_idx[0] < len(domains) - 1:\n",
    "                ax.set_xlabel('')\n",
    "            ax.set_xscale('log', basex=2)\n",
    "\n",
    "    for col_idx in range(axarray1[2].shape[0]):\n",
    "        box = axarray1[2][col_idx].get_position()\n",
    "        axarray1[2][col_idx].set_position(\n",
    "            [box.x0,\n",
    "             box.y0 + box.height * 0.1,\n",
    "             box.width,\n",
    "             box.height * 0.9]\n",
    "        )\n",
    "    fin1.legend(loc='lower center', bbox_to_anchor=(0.46, -0.01),\n",
    "                ncol=len(methods), fancybox=True, shadow=True)\n",
    "    plt.savefig(\n",
    "       'benchmark_real_P@100.pdf', # gem/plots/hyp/\n",
    "       dpi=300, format='pdf', bbox_inches='tight'\n",
    "    )\n",
    "#     plt.show()\n",
    "#     plt.clf()"
   ]
  },
  {
   "cell_type": "code",
   "execution_count": 96,
   "metadata": {
    "scrolled": false
   },
   "outputs": [
    {
     "name": "stdout",
     "output_type": "stream",
     "text": [
      "86\n"
     ]
    }
   ],
   "source": [
    "graph_names = [0, 1, 20, 29, 35, 184, 186, 188, 189, 190, 191, 192, 193, 194, 195, 196, 197, 198, 199, 200, 201, 202, 203, 204, 205, 206, 207, 216, 217, 218, 219, 220, 221, 222, 224, 225, 230, 231, 232, 233, 234, 235, 236, 237, 238, 240, 241, 242, 243, 244, 245, 246, 250, 322, 324, 359, 378, 379, 380, 381, 382, 383, 384]\n",
    "graph_names_new = [177, 178, 183, 208, 209, 210, 211, 212, 213, 214, 215, 223, 226, 227, 228, 229, 249, 251, 252, 253, 254, 289, 296]\n",
    "graph_names += graph_names_new\n",
    "print(len(graph_names))\n",
    "plot_benchmark(\n",
    "    [\"Economic\", \"Biological\", \"Technological\"],\n",
    "    {\"Domain\": [\"Economic\", \"Biological\", \"Technological\"], \"# of Nodes\": [256, 512, 1024], \"Degree\": [3, 4, 5]},\n",
    "    [\"gf\", \"rand\", \"pa\", \"lap\", \"hope\", \"cn\", \"aa\",\"sdne\", \"jc\"],\n",
    "    graph_names,\n",
    "    s_sch='u_rand'\n",
    ")"
   ]
  },
  {
   "cell_type": "code",
   "execution_count": null,
   "metadata": {},
   "outputs": [],
   "source": []
  }
 ],
 "metadata": {
  "kernelspec": {
   "display_name": "Python 3",
   "language": "python",
   "name": "python3"
  },
  "language_info": {
   "codemirror_mode": {
    "name": "ipython",
    "version": 3
   },
   "file_extension": ".py",
   "mimetype": "text/x-python",
   "name": "python",
   "nbconvert_exporter": "python",
   "pygments_lexer": "ipython3",
   "version": "3.7.3"
  }
 },
 "nbformat": 4,
 "nbformat_minor": 2
}
